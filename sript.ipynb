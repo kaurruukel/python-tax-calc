{
 "cells": [
  {
   "cell_type": "code",
   "execution_count": null,
   "metadata": {},
   "outputs": [],
   "source": [
    "import pandas as pd\n",
    "from coinbase.wallet.client import Client\n",
    "from sec import api_key, api_sec\n",
    "\n",
    "client = Client(api_key, api_sec)\n",
    "\n",
    "pd.set_option('display.max_rows', 500)\n",
    "pd.set_option('display.max_columns', 500)\n",
    "pd.set_option('display.width', 1000)\n"
   ]
  },
  {
   "cell_type": "code",
   "execution_count": null,
   "metadata": {},
   "outputs": [],
   "source": [
    "def get_paginated_accounts (limit):\n",
    "    #annab valja listi koikide accountidega\n",
    "    all_items = []\n",
    "    starting_after = None\n",
    "    while True:\n",
    "        items = client.get_accounts(limit = limit, starting_after = starting_after)\n",
    "        if items.pagination.next_starting_after is not None:\n",
    "            starting_after = items.pagination.next_starting_after\n",
    "            all_items += items.data\n",
    "        else:\n",
    "            all_items += items.data\n",
    "            break\n",
    "    return all_items"
   ]
  },
  {
   "cell_type": "code",
   "execution_count": null,
   "metadata": {},
   "outputs": [],
   "source": [
    "def get_transaction_table_sorted(accounts):\n",
    "    all_transactions = pd.DataFrame()\n",
    "\n",
    "    for account in accounts:\n",
    "        if len(account['id']) < 10:\n",
    "            continue\n",
    "        print('checking ', account.balance.currency)\n",
    "        local_transactions = pd.DataFrame()\n",
    "        starting_after = None\n",
    "        while True:\n",
    "            transactions = client.get_transactions(account['id'], limit = 100, starting_after = starting_after)\n",
    "            if transactions.pagination.next_starting_after is not None:\n",
    "                starting_after = transactions.pagination.next_starting_after\n",
    "                local_transactions = pd.concat([local_transactions, pd.DataFrame(transactions.data)])\n",
    "            else:\n",
    "                local_transactions = pd.concat([local_transactions, pd.DataFrame(transactions.data)])\n",
    "                break\n",
    "        if local_transactions.empty:\n",
    "            continue\n",
    "\n",
    "        \n",
    "        local_transactions = local_transactions.sort_values('created_at')\n",
    "        all_transactions = pd.concat([all_transactions, local_transactions])\n",
    "    all_transactions.loc[:,'details'] = all_transactions.loc[:,'details'].apply(lambda x: x.get('header'))\n",
    "    all_transactions.loc[:,'currency'] = all_transactions.loc[:,'amount'].apply(lambda x: x.get('currency'))\n",
    "    all_transactions.loc[:,'crypto_amount'] = all_transactions.loc[:,'amount'].apply(lambda x: x.get('amount'))\n",
    "    all_transactions.loc[:,'native_currency'] = all_transactions.loc[:,'native_amount'].apply(lambda x: x.get('currency'))\n",
    "    all_transactions.loc[:,'native_amount'] = all_transactions.loc[:,'native_amount'].apply(lambda x: x.get('amount'))\n",
    "    all_transactions['native_amount'] = all_transactions['native_amount'].apply(lambda x: float(x))\n",
    "    all_transactions['crypto_amount'] = all_transactions['crypto_amount'].apply(lambda x: float(x))\n",
    "    all_transactions = all_transactions[['id','native_amount','created_at','type','details','currency','crypto_amount','native_currency']]\n",
    "    return all_transactions"
   ]
  },
  {
   "cell_type": "code",
   "execution_count": null,
   "metadata": {},
   "outputs": [],
   "source": [
    "def get_fifo_table(tabel_of_a_crypto):    \n",
    "    tabel_of_sales_of_a_buy = pd.DataFrame(columns=['buy_id', 'currency', 'buy_amount_to_this_sell', 'buy_amount_in_native', 'sale_amount_in_crypto', 'sale_amount_in_native', 'buy_ppc', 'sell_ppc', 'profit in %', 'tax_owned_for_this_transaction', 'index_of_sale'])\n",
    "    tabel_of_a_crypto.loc[:,'to_be_spent_from_this_buy'] = tabel_of_a_crypto['crypto_amount'][tabel_of_a_crypto['crypto_amount'] > 0]\n",
    "    sales_locations = tabel_of_a_crypto[tabel_of_a_crypto['crypto_amount'] < 0].index\n",
    "    for sale_index in sales_locations:\n",
    "        sale = tabel_of_a_crypto.loc[sale_index]\n",
    "        sale_size = abs(sale.crypto_amount)\n",
    "        while sale_size > sum(tabel_of_sales_of_a_buy[tabel_of_sales_of_a_buy['index_of_sale'] == sale_index]['buy_amount_to_this_sell']):\n",
    "            already_spent_on_this_sell = sum(tabel_of_sales_of_a_buy[tabel_of_sales_of_a_buy['index_of_sale'] == sale_index]['buy_amount_to_this_sell'])\n",
    "            try:\n",
    "                use_a_new_buy = tabel_of_a_crypto[tabel_of_a_crypto['to_be_spent_from_this_buy'] > 0].iloc[0]\n",
    "            except:\n",
    "                break\n",
    "            buy_ppc = use_a_new_buy['native_amount'] / use_a_new_buy['crypto_amount']\n",
    "            sell_ppc = sale['native_amount'] / sale['crypto_amount']\n",
    "            if (use_a_new_buy['to_be_spent_from_this_buy'] + already_spent_on_this_sell) > sale_size:\n",
    "                spend_from_this_buy = sale_size - already_spent_on_this_sell\n",
    "                index = tabel_of_a_crypto[tabel_of_a_crypto['id'] == use_a_new_buy['id']].index\n",
    "                tabel_of_a_crypto.loc[index, 'to_be_spent_from_this_buy'] = use_a_new_buy['to_be_spent_from_this_buy'] - spend_from_this_buy\n",
    "                temp = (use_a_new_buy['id'], use_a_new_buy['currency'], spend_from_this_buy, use_a_new_buy['native_amount'], sale_size, sale.native_amount, buy_ppc, sell_ppc, 0, 0, sale_index)\n",
    "                tabel_of_sales_of_a_buy.loc[len(tabel_of_sales_of_a_buy)] = temp\n",
    "                break\n",
    "            else:\n",
    "                temp = (use_a_new_buy['id'], use_a_new_buy['currency'], use_a_new_buy['to_be_spent_from_this_buy'], use_a_new_buy['native_amount'], sale_size, sale.native_amount, buy_ppc, sell_ppc, 0, 0, sale_index)\n",
    "                index = tabel_of_a_crypto[tabel_of_a_crypto['id'] == use_a_new_buy['id']].index\n",
    "                tabel_of_a_crypto.loc[index, 'to_be_spent_from_this_buy'] = 0\n",
    "                tabel_of_sales_of_a_buy.loc[len(tabel_of_sales_of_a_buy)] = temp\n",
    "    tabel_of_sales_of_a_buy.loc[:, 'profit in %'] = (tabel_of_sales_of_a_buy['sell_ppc'] / tabel_of_sales_of_a_buy['buy_ppc'])*100\n",
    "    tabel_of_sales_of_a_buy.loc[:, 'tax_owned_for_this_transaction'] = round(( ((tabel_of_sales_of_a_buy['buy_amount_to_this_sell'] / tabel_of_sales_of_a_buy['sale_amount_in_crypto']) * abs(tabel_of_sales_of_a_buy['sale_amount_in_native'])) - (tabel_of_sales_of_a_buy['buy_amount_to_this_sell'] * tabel_of_sales_of_a_buy['buy_ppc']) ) * 0.2, 4)\n",
    "    tabel_of_sales_of_a_buy['tax_owned_for_this_transaction'][tabel_of_sales_of_a_buy['profit in %'] < 100] = 0  \n",
    "    return tabel_of_sales_of_a_buy"
   ]
  },
  {
   "cell_type": "code",
   "execution_count": null,
   "metadata": {},
   "outputs": [],
   "source": [
    "def get_fifo_of_all_cryptos(all_transactions):\n",
    "    total_sold = 0\n",
    "    currencies = all_transactions.currency.unique()\n",
    "    the_master_taxation_table = pd.DataFrame()\n",
    "    for currency in currencies:   \n",
    "        tabel_of_a_crypto = all_transactions[all_transactions['currency'] == currency]\n",
    "        \n",
    "        \n",
    "        tabel_of_sales_of_a_buy = get_fifo_table(tabel_of_a_crypto)\n",
    "        the_master_taxation_table = pd.concat([the_master_taxation_table, tabel_of_sales_of_a_buy])\n",
    "        \n",
    "        \n",
    "        unique_sells = tabel_of_sales_of_a_buy.drop_duplicates('index_of_sale')\n",
    "        total_sold = total_sold + abs(sum(unique_sells['sale_amount_in_native']))\n",
    "\n",
    "    total_bought = sum(the_master_taxation_table['buy_amount_to_this_sell']*the_master_taxation_table['buy_ppc'])\n",
    "    print('soetamismaksumus ', total_bought)\n",
    "    print('müügi-/turuhind', total_sold)\n",
    "    return the_master_taxation_table    "
   ]
  },
  {
   "cell_type": "code",
   "execution_count": null,
   "metadata": {},
   "outputs": [],
   "source": [
    "def weighted_average(tabel_of_a_crypto):\n",
    "    sales_locations = []\n",
    "    sales_locations = tabel_of_a_crypto[tabel_of_a_crypto['native_amount'] < 0].index\n",
    "    for sale in sales_locations:\n",
    "        buys_before_sell_temp = tabel_of_a_crypto.iloc[:len(tabel_of_a_crypto) - sale]\n",
    "        buys_before_sell = buys_before_sell_temp[buys_before_sell_temp['native_amount'] > 0]\n",
    "        average = sum(buys_before_sell['native_amount']) / sum(buys_before_sell['crypto_amount'])\n",
    "        tabel_of_a_crypto.loc[sale,'average_buy_price_before_this_sell'] = average\n",
    "        tabel_of_a_crypto.loc[sale, 'initial_investement_to_this_sell'] = abs(average * tabel_of_a_crypto.loc[sale, 'crypto_amount'])\n",
    "        tabel_of_a_crypto.loc[sale, 'profit'] = abs(tabel_of_a_crypto.loc[sale, 'native_amount']) - tabel_of_a_crypto.loc[sale, 'initial_investement_to_this_sell']\n",
    "        tabel_of_a_crypto.loc[sale, 'tax_owned_for_this_txs'] = tabel_of_a_crypto.loc[sale, 'profit'] * 0.2\n",
    "    return tabel_of_a_crypto\n",
    "    "
   ]
  },
  {
   "cell_type": "code",
   "execution_count": null,
   "metadata": {},
   "outputs": [],
   "source": [
    "def get_weighed_average_of_all(all_transactions):\n",
    "    currencies = all_transactions.currency.unique()\n",
    "    the_master_taxation_table = pd.DataFrame()\n",
    "\n",
    "    for currency in currencies:\n",
    "        tabel_of_a_crypto = all_transactions[all_transactions['currency'] == currency]\n",
    "        weighted_average_of_a_crypto = weighted_average(tabel_of_a_crypto)\n",
    "        the_master_taxation_table = pd.concat([the_master_taxation_table, weighted_average_of_a_crypto])\n",
    "    the_master_taxation_table['tax_owned_for_this_txs'][the_master_taxation_table['tax_owned_for_this_txs'] < 0]\n",
    "    sells = the_master_taxation_table[the_master_taxation_table['crypto_amount'] < 0]\n",
    "    total_bought = sum(sells['crypto_amount'] * sells['average_buy_price_before_this_sell'])\n",
    "    total_sold = sum(sells['native_amount'])\n",
    "    print('soetamismaksumus ', abs(total_bought))\n",
    "    print('müügi-/turuhind', abs(total_sold))\n",
    "    return the_master_taxation_table\n",
    "\n"
   ]
  },
  {
   "cell_type": "code",
   "execution_count": null,
   "metadata": {},
   "outputs": [],
   "source": [
    "accounts = get_paginated_accounts(limit = 100)\n",
    "all_transactions = get_transaction_table_sorted(accounts) #gets all transactions"
   ]
  },
  {
   "cell_type": "code",
   "execution_count": null,
   "metadata": {},
   "outputs": [],
   "source": [
    "the_master_table = get_weighed_average_of_all(all_transactions) #gets weighed average of all transactions"
   ]
  },
  {
   "cell_type": "code",
   "execution_count": null,
   "metadata": {},
   "outputs": [],
   "source": []
  },
  {
   "cell_type": "code",
   "execution_count": null,
   "metadata": {},
   "outputs": [],
   "source": [
    "the_master_table = get_fifo_of_all_cryptos(all_transactions) #gets fifo of all transactions"
   ]
  },
  {
   "cell_type": "code",
   "execution_count": null,
   "metadata": {},
   "outputs": [],
   "source": [
    "the_master_table"
   ]
  },
  {
   "cell_type": "code",
   "execution_count": null,
   "metadata": {},
   "outputs": [],
   "source": []
  }
 ],
 "metadata": {
  "kernelspec": {
   "display_name": "Python 3.9.6 64-bit",
   "language": "python",
   "name": "python3"
  },
  "language_info": {
   "codemirror_mode": {
    "name": "ipython",
    "version": 3
   },
   "file_extension": ".py",
   "mimetype": "text/x-python",
   "name": "python",
   "nbconvert_exporter": "python",
   "pygments_lexer": "ipython3",
   "version": "3.9.6"
  },
  "orig_nbformat": 4,
  "vscode": {
   "interpreter": {
    "hash": "aee8b7b246df8f9039afb4144a1f6fd8d2ca17a180786b69acc140d282b71a49"
   }
  }
 },
 "nbformat": 4,
 "nbformat_minor": 2
}
